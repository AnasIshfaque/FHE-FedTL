{
 "cells": [
  {
   "cell_type": "code",
   "execution_count": null,
   "id": "cdb9e775-0f4f-4d72-8461-8910ca8648e1",
   "metadata": {},
   "outputs": [],
   "source": [
    "import os\n",
    "import h5py\n",
    "import numpy as np\n",
    "\n",
    "import socket\n",
    "import struct\n",
    "import pickle\n",
    "\n",
    "import torch\n",
    "import torch.nn as nn\n",
    "import torch.nn.functional as F\n",
    "import torchvision\n",
    "from torchvision import datasets,transforms,models\n",
    "import torch.optim as optim\n",
    "\n",
    "from torch.utils.data import Dataset, DataLoader\n",
    "\n",
    "import time\n",
    "import copy\n",
    "\n",
    "from tqdm import tqdm"
   ]
  },
  {
   "cell_type": "code",
   "execution_count": null,
   "id": "2aafd1f6-6a1d-471f-9e91-5301c27062af",
   "metadata": {},
   "outputs": [],
   "source": [
    "root_path = '../../datasets/THB_splitted'"
   ]
  },
  {
   "cell_type": "code",
   "execution_count": null,
   "id": "50234807-14be-419f-b251-63fe631b7890",
   "metadata": {},
   "outputs": [],
   "source": [
    "client_orders = [0, 1, 2]"
   ]
  }
 ],
 "metadata": {
  "kernelspec": {
   "display_name": "Python 3 (ipykernel)",
   "language": "python",
   "name": "python3"
  },
  "language_info": {
   "codemirror_mode": {
    "name": "ipython",
    "version": 3
   },
   "file_extension": ".py",
   "mimetype": "text/x-python",
   "name": "python",
   "nbconvert_exporter": "python",
   "pygments_lexer": "ipython3",
   "version": "3.11.5"
  }
 },
 "nbformat": 4,
 "nbformat_minor": 5
}
