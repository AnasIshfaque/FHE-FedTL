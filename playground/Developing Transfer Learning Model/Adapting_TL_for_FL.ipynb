{
 "cells": [
  {
   "cell_type": "code",
   "execution_count": null,
   "id": "1309c9b0-cc24-4ce0-9737-ba40221bc788",
   "metadata": {},
   "outputs": [],
   "source": [
    "import torchvision\n",
    "import torchvision.transforms as transforms\n",
    "from torch.utils.data import Subset"
   ]
  },
  {
   "cell_type": "code",
   "execution_count": null,
   "id": "3580a2b4-0715-459b-a6c9-4cce6486ac1d",
   "metadata": {},
   "outputs": [],
   "source": [
    "indices = list(range(328))\n",
    "num_traindata = 328 // 3\n",
    "part_tr = indices[num_traindata * 0 : num_traindata * (0 + 1)]\n",
    "\n",
    "trainset_sub = Subset(trainset, part_tr)\n",
    "len(trainset_sub)"
   ]
  },
  {
   "cell_type": "code",
   "execution_count": null,
   "id": "ebc5411c-03f7-499f-9eda-958e4cbb9465",
   "metadata": {},
   "outputs": [],
   "source": [
    "sets = ['train','val']\n",
    "mean = np.array([0.485,0.456,0.406])\n",
    "std = np.array([0.229,0.224,0.225])\n",
    "data_transforms = {\n",
    "    'train':transforms.Compose([\n",
    "        transforms.RandomResizedCrop(224),\n",
    "        transforms.RandomHorizontalFlip(),\n",
    "        transforms.ToTensor(),\n",
    "        transforms.Normalize(mean,std)\n",
    "    ]),\n",
    "    'val':transforms.Compose([\n",
    "        transforms.Resize(256),\n",
    "        transforms.CenterCrop(224),\n",
    "        transforms.ToTensor(),\n",
    "        transforms.Normalize(mean,std)\n",
    "    ])\n",
    "}\n",
    "image_datasets = {x:datasets.ImageFolder(os.path.join(fold_dir,x),\n",
    "                                        data_transforms[x])\n",
    "                for x in ['train','val']}\n",
    "dataloaders = {x:torch.utils.data.DataLoader(image_datasets[x],batch_size=4,\n",
    "                                            shuffle=True,num_workers=0)\n",
    "                for x in ['train','val']}\n",
    "\n",
    "dataset_sizes = {x:len(image_datasets[x]) for x in ['train','val']}"
   ]
  }
 ],
 "metadata": {
  "kernelspec": {
   "display_name": "Python 3 (ipykernel)",
   "language": "python",
   "name": "python3"
  },
  "language_info": {
   "codemirror_mode": {
    "name": "ipython",
    "version": 3
   },
   "file_extension": ".py",
   "mimetype": "text/x-python",
   "name": "python",
   "nbconvert_exporter": "python",
   "pygments_lexer": "ipython3",
   "version": "3.11.5"
  }
 },
 "nbformat": 4,
 "nbformat_minor": 5
}
