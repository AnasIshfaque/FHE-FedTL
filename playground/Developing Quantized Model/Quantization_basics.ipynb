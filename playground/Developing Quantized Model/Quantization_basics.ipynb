{
 "cells": [
  {
   "cell_type": "code",
   "execution_count": 16,
   "id": "331b7047-ce0b-4e5b-b9ca-dfa1f49b9857",
   "metadata": {},
   "outputs": [],
   "source": [
    "import numpy as np"
   ]
  },
  {
   "cell_type": "code",
   "execution_count": 17,
   "id": "3eebbee1-5734-43bd-b534-259e0575b9b8",
   "metadata": {},
   "outputs": [
    {
     "data": {
      "text/plain": [
       "array([ 44.01835923, -26.73806929,  17.98055763, 134.09318775,\n",
       "        21.30836871, 133.54857662,  84.82477701,  32.84000663,\n",
       "       -15.2750435 ,  -1.0422719 , -23.35666243,  70.81090097,\n",
       "       -28.39405117, 140.30149603, 102.03147933, 117.59158773,\n",
       "        80.41547862,  46.46386366,  91.47931112,  54.11613651])"
      ]
     },
     "execution_count": 17,
     "metadata": {},
     "output_type": "execute_result"
    }
   ],
   "source": [
    "params = np.random.uniform(low =-50, high=150, size=20)\n",
    "params"
   ]
  },
  {
   "cell_type": "code",
   "execution_count": 18,
   "id": "e61e92fb-cd3b-4a8b-9ac3-f5cbcff61a53",
   "metadata": {},
   "outputs": [
    {
     "data": {
      "text/plain": [
       "array([141.3 , -29.39,   0.  , 134.09,  21.31, 133.55,  84.82,  32.84,\n",
       "       -15.28,  -1.04, -23.36,  70.81, -28.39, 140.3 , 102.03, 117.59,\n",
       "        80.42,  46.46,  91.48,  54.12])"
      ]
     },
     "execution_count": 18,
     "metadata": {},
     "output_type": "execute_result"
    }
   ],
   "source": [
    "params[0] = params.max() + 1\n",
    "params[1] = params.min() - 1\n",
    "params[2] = 0\n",
    "\n",
    "params = np.round(params, 2)\n",
    "params"
   ]
  },
  {
   "cell_type": "code",
   "execution_count": 19,
   "id": "ae5a4981-9040-44aa-aa3c-06096c0b2ed9",
   "metadata": {},
   "outputs": [],
   "source": [
    "def clamp(params_q: np.array, lower_bound: int, upper_bound: int) -> np.array:\n",
    "    params_q[params_q < lower_bound] = lower_bound\n",
    "    params_q[params_q > upper_bound] = upper_bound\n",
    "    return params_q"
   ]
  },
  {
   "cell_type": "code",
   "execution_count": 20,
   "id": "05321903-7c8c-4f33-9ecc-98a85007cd62",
   "metadata": {},
   "outputs": [],
   "source": [
    "def asymmetric_quantization(params: np.array, bits: int) -> tuple[np.array, float, int]:\n",
    "    # Calculate the scale and zero point\n",
    "    alpha = np.max(params)\n",
    "    beta = np.min(params)\n",
    "    scale = (alpha - beta) / (2**bits-1)\n",
    "    zero = -1*np.round(beta / scale)\n",
    "    lower_bound, upper_bound = 0, 2**bits-1\n",
    "\n",
    "    # quantize the parameters\n",
    "    quantized = clamp(np.array(params / scale + zero), lower_bound, upper_bound).astype(np.int32)\n",
    "    return quantized, scale, zero\n",
    "\n",
    "def asymmetric_dequantize(params_q: np.array, scale: float, zero: int) -> np.array:\n",
    "    return (params_q - zero) * scale\n",
    "\n",
    "\n",
    "\n",
    "def symmetric_quantization(params: np.array, bits: int) -> tuple[np.array, float]:\n",
    "    # Calculate the scale\n",
    "    alpha = np.max(np.abs(params))\n",
    "    scale = alpha / (2**(bits - 1)-1)\n",
    "    lower_bound = -2**(bits-1)\n",
    "    upper_bound = 2**(bits-1)-1\n",
    "    # Quantize the parameters\n",
    "    quantized = clamp(np.round(params / scale), lower_bound, upper_bound).astype(np.int32)\n",
    "    return quantized, scale\n",
    "    \n",
    "def symmetric_dequantize(params_q: np.array, scale: float) -> np.array:\n",
    "    return params_q* scale"
   ]
  },
  {
   "cell_type": "code",
   "execution_count": 21,
   "id": "6b670578-50e4-4435-8906-bfd992c31653",
   "metadata": {},
   "outputs": [],
   "source": [
    "def quantization_error(params: np.array, params_q: np.array):\n",
    "    # Calculate the MSE\n",
    "    return np.mean((params - params_q)**2)"
   ]
  },
  {
   "cell_type": "code",
   "execution_count": 22,
   "id": "71eb8ebb-3f01-4cb2-8eda-8f9eba438dfa",
   "metadata": {},
   "outputs": [
    {
     "name": "stdout",
     "output_type": "stream",
     "text": [
      "Original: \n",
      "[141.3  -29.39   0.   134.09  21.31 133.55  84.82  32.84 -15.28  -1.04\n",
      " -23.36  70.81 -28.39 140.3  102.03 117.59  80.42  46.46  91.48  54.12]\n",
      "Asymmetric scale: 0.6693725490196079, zero: 44.0\n",
      "[255   0  44 244  75 243 170  93  21  42   9 149   1 253 196 219 164 113\n",
      " 180 124]\n",
      "Symmetric scale: 1.1125984251968506\n",
      "[127 -26   0 121  19 120  76  30 -14  -1 -21  64 -26 126  92 106  72  42\n",
      "  82  49]\n"
     ]
    }
   ],
   "source": [
    "(asymmetric_q, asymmetric_scale, asymmetric_zero) = asymmetric_quantization(params, 8)\n",
    "(symmetric_q, symmetric_scale) = symmetric_quantization(params, 8)\n",
    "\n",
    "print(f'Original: \\n{np.round(params, 2)}')\n",
    "\n",
    "print(f'Asymmetric scale: {asymmetric_scale}, zero: {asymmetric_zero}')\n",
    "print(asymmetric_q)\n",
    "\n",
    "print(f'Symmetric scale: {symmetric_scale}')\n",
    "print(symmetric_q)"
   ]
  },
  {
   "cell_type": "code",
   "execution_count": 23,
   "id": "2a849531-d88f-49cc-ac93-8d8182818b72",
   "metadata": {},
   "outputs": [
    {
     "name": "stdout",
     "output_type": "stream",
     "text": [
      "Original: \n",
      "[141.3  -29.39   0.   134.09  21.31 133.55  84.82  32.84 -15.28  -1.04\n",
      " -23.36  70.81 -28.39 140.3  102.03 117.59  80.42  46.46  91.48  54.12]\n",
      "Dequantized asymmetric:\n",
      "[141.23760784 -29.45239216   0.         133.8745098   20.75054902\n",
      " 133.20513725  84.34094118  32.7992549  -15.39556863  -1.3387451\n",
      " -23.42803922  70.28411765 -28.78301961 139.89886275 101.74462745\n",
      " 117.14019608  80.32470588  46.18670588  91.03466667  53.54980392]\n",
      "Dequantized symmetric:\n",
      "[141.3        -28.92755906   0.         134.62440945  21.13937008\n",
      " 133.51181102  84.55748031  33.37795276 -15.57637795  -1.11259843\n",
      " -23.36456693  71.20629921 -28.92755906 140.18740157 102.35905512\n",
      " 117.93543307  80.10708661  46.72913386  91.23307087  54.51732283]\n"
     ]
    }
   ],
   "source": [
    "# Dequantize the parameters back to float 32 bits\n",
    "params_deq_asymmetric = asymmetric_dequantize(asymmetric_q, asymmetric_scale, asymmetric_zero)\n",
    "params_deq_symmetric = symmetric_dequantize(symmetric_q, symmetric_scale)\n",
    "\n",
    "print(f'Original: \\n{np.round(params, 2)}')\n",
    "\n",
    "print(f'Dequantized asymmetric:')\n",
    "print(params_deq_asymmetric)\n",
    "\n",
    "print(f'Dequantized symmetric:')\n",
    "print(params_deq_symmetric)"
   ]
  },
  {
   "cell_type": "code",
   "execution_count": 24,
   "id": "44c37bff-c9de-4cc4-8fe4-25174584e3d4",
   "metadata": {},
   "outputs": [
    {
     "name": "stdout",
     "output_type": "stream",
     "text": [
      "  Asymmetric error: 0.12\n",
      "   Symmetric error: 0.1\n"
     ]
    }
   ],
   "source": [
    "print(f'{\"Asymmetric error: \":>20}{np.round(quantization_error(params, params_deq_asymmetric), 2)}')\n",
    "print(f'{\"Symmetric error: \":>20}{np.round(quantization_error(params, params_deq_symmetric), 2)}')"
   ]
  },
  {
   "cell_type": "code",
   "execution_count": null,
   "id": "f3f7d88d-0cce-4f0c-80a4-281560fa567f",
   "metadata": {},
   "outputs": [],
   "source": []
  }
 ],
 "metadata": {
  "kernelspec": {
   "display_name": "Python 3 (ipykernel)",
   "language": "python",
   "name": "python3"
  },
  "language_info": {
   "codemirror_mode": {
    "name": "ipython",
    "version": 3
   },
   "file_extension": ".py",
   "mimetype": "text/x-python",
   "name": "python",
   "nbconvert_exporter": "python",
   "pygments_lexer": "ipython3",
   "version": "3.11.5"
  }
 },
 "nbformat": 4,
 "nbformat_minor": 5
}
