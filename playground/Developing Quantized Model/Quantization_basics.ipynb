{
 "cells": [
  {
   "cell_type": "code",
   "execution_count": 1,
   "id": "331b7047-ce0b-4e5b-b9ca-dfa1f49b9857",
   "metadata": {},
   "outputs": [],
   "source": [
    "import numpy as np"
   ]
  },
  {
   "cell_type": "code",
   "execution_count": 2,
   "id": "3eebbee1-5734-43bd-b534-259e0575b9b8",
   "metadata": {},
   "outputs": [
    {
     "data": {
      "text/plain": [
       "array([  2.10765569, 110.44483913, -13.66585072,  88.15961983,\n",
       "         0.51923735,  93.90104613, -27.83028434,  27.15113248,\n",
       "       128.6031137 ,   2.98600289, 148.99545196,  29.76906547,\n",
       "       140.6226831 ,  24.92445399,  28.70714817, 115.19625712,\n",
       "        72.64920264,  42.65152772, 135.04727475,  83.32600314])"
      ]
     },
     "execution_count": 2,
     "metadata": {},
     "output_type": "execute_result"
    }
   ],
   "source": [
    "params = np.random.uniform(low =-50, high=150, size=20)\n",
    "params"
   ]
  },
  {
   "cell_type": "code",
   "execution_count": 10,
   "id": "3561c3fb-0e87-4c72-9f5b-83206b64e270",
   "metadata": {},
   "outputs": [
    {
     "data": {
      "text/plain": [
       "array([ 97.90587899, -30.54347373, 107.06069995, -24.87767714,\n",
       "       -13.12574342, -40.45456006,  13.59020207, 144.38601142,\n",
       "       -48.88340416, -46.21046313,  -2.44545951,  20.7496684 ,\n",
       "        52.14131184,  55.01623051, -21.94195487, 115.82113461,\n",
       "        64.76028566,  57.74994078,  54.26420125,  68.1472703 ])"
      ]
     },
     "execution_count": 10,
     "metadata": {},
     "output_type": "execute_result"
    }
   ],
   "source": [
    "params_2 = np.random.uniform(low =-50, high=150, size=20)\n",
    "params_2"
   ]
  },
  {
   "cell_type": "code",
   "execution_count": 3,
   "id": "e61e92fb-cd3b-4a8b-9ac3-f5cbcff61a53",
   "metadata": {},
   "outputs": [
    {
     "data": {
      "text/plain": [
       "array([150.  , -28.83,   0.  ,  88.16,   0.52,  93.9 , -27.83,  27.15,\n",
       "       128.6 ,   2.99, 149.  ,  29.77, 140.62,  24.92,  28.71, 115.2 ,\n",
       "        72.65,  42.65, 135.05,  83.33])"
      ]
     },
     "execution_count": 3,
     "metadata": {},
     "output_type": "execute_result"
    }
   ],
   "source": [
    "params[0] = params.max() + 1\n",
    "params[1] = params.min() - 1\n",
    "params[2] = 0\n",
    "\n",
    "params = np.round(params, 2)\n",
    "params"
   ]
  },
  {
   "cell_type": "code",
   "execution_count": 11,
   "id": "c4ff6c90-9803-429f-9500-1f54a095497f",
   "metadata": {},
   "outputs": [
    {
     "data": {
      "text/plain": [
       "array([145.39, -49.88,   0.  , -24.88, -13.13, -40.45,  13.59, 144.39,\n",
       "       -48.88, -46.21,  -2.45,  20.75,  52.14,  55.02, -21.94, 115.82,\n",
       "        64.76,  57.75,  54.26,  68.15])"
      ]
     },
     "execution_count": 11,
     "metadata": {},
     "output_type": "execute_result"
    }
   ],
   "source": [
    "params_2[0] = params_2.max() + 1\n",
    "params_2[1] = params_2.min() - 1\n",
    "params_2[2] = 0\n",
    "\n",
    "params_2 = np.round(params_2, 2)\n",
    "params_2"
   ]
  },
  {
   "cell_type": "code",
   "execution_count": 12,
   "id": "ae5a4981-9040-44aa-aa3c-06096c0b2ed9",
   "metadata": {},
   "outputs": [],
   "source": [
    "def clamp(params_q: np.array, lower_bound: int, upper_bound: int) -> np.array:\n",
    "    params_q[params_q < lower_bound] = lower_bound\n",
    "    params_q[params_q > upper_bound] = upper_bound\n",
    "    return params_q"
   ]
  },
  {
   "cell_type": "code",
   "execution_count": 13,
   "id": "05321903-7c8c-4f33-9ecc-98a85007cd62",
   "metadata": {},
   "outputs": [],
   "source": [
    "def asymmetric_quantization(params: np.array, bits: int) -> tuple[np.array, float, int]:\n",
    "    # Calculate the scale and zero point\n",
    "    alpha = np.max(params)\n",
    "    beta = np.min(params)\n",
    "    scale = (alpha - beta) / (2**bits-1)\n",
    "    zero = -1*np.round(beta / scale)\n",
    "    lower_bound, upper_bound = 0, 2**bits-1\n",
    "\n",
    "    # quantize the parameters\n",
    "    quantized = clamp(np.array(params / scale + zero), lower_bound, upper_bound).astype(np.int32)\n",
    "    return quantized, scale, zero\n",
    "\n",
    "def asymmetric_dequantize(params_q: np.array, scale: float, zero: int) -> np.array:\n",
    "    return (params_q - zero) * scale\n",
    "\n",
    "\n",
    "\n",
    "def symmetric_quantization(params: np.array, bits: int) -> tuple[np.array, float]:\n",
    "    # Calculate the scale\n",
    "    alpha = np.max(np.abs(params))\n",
    "    scale = alpha / (2**(bits - 1)-1)\n",
    "    lower_bound = -2**(bits-1)\n",
    "    upper_bound = 2**(bits-1)-1\n",
    "    # Quantize the parameters\n",
    "    quantized = clamp(np.round(params / scale), lower_bound, upper_bound).astype(np.int32)\n",
    "    return quantized, scale\n",
    "    \n",
    "def symmetric_dequantize(params_q: np.array, scale: float) -> np.array:\n",
    "    return params_q* scale"
   ]
  },
  {
   "cell_type": "code",
   "execution_count": 14,
   "id": "6b670578-50e4-4435-8906-bfd992c31653",
   "metadata": {},
   "outputs": [],
   "source": [
    "def quantization_error(params: np.array, params_q: np.array):\n",
    "    # Calculate the MSE\n",
    "    return np.mean((params - params_q)**2)"
   ]
  },
  {
   "cell_type": "code",
   "execution_count": 7,
   "id": "71eb8ebb-3f01-4cb2-8eda-8f9eba438dfa",
   "metadata": {},
   "outputs": [
    {
     "name": "stdout",
     "output_type": "stream",
     "text": [
      "Original: \n",
      "[150.   -28.83   0.    88.16   0.52  93.9  -27.83  27.15 128.6    2.99\n",
      " 149.    29.77 140.62  24.92  28.71 115.2   72.65  42.65 135.05  83.33]\n",
      "Asymmetric scale: 0.7012941176470587, zero: 41.0\n",
      "[254   0  41 166  41 174   1  79 224  45 253  83 241  76  81 205 144 101\n",
      " 233 159]\n",
      "Symmetric scale: 1.1811023622047243\n",
      "[127 -24   0  75   0  80 -24  23 109   3 126  25 119  21  24  98  62  36\n",
      " 114  71]\n"
     ]
    }
   ],
   "source": [
    "(asymmetric_q, asymmetric_scale, asymmetric_zero) = asymmetric_quantization(params, 8)\n",
    "(symmetric_q, symmetric_scale) = symmetric_quantization(params, 8)\n",
    "\n",
    "print(f'Original: \\n{np.round(params, 2)}')\n",
    "\n",
    "print(f'Asymmetric scale: {asymmetric_scale}, zero: {asymmetric_zero}')\n",
    "print(asymmetric_q)\n",
    "\n",
    "print(f'Symmetric scale: {symmetric_scale}')\n",
    "print(symmetric_q)"
   ]
  },
  {
   "cell_type": "code",
   "execution_count": 15,
   "id": "fc2a0479-fdfe-4509-bc9d-69a992122c95",
   "metadata": {},
   "outputs": [
    {
     "name": "stdout",
     "output_type": "stream",
     "text": [
      "Original: \n",
      "[150.   -28.83   0.    88.16   0.52  93.9  -27.83  27.15 128.6    2.99\n",
      " 149.    29.77 140.62  24.92  28.71 115.2   72.65  42.65 135.05  83.33]\n",
      "Symmetric scale: 1.1811023622047243\n",
      "[127 -24   0  75   0  80 -24  23 109   3 126  25 119  21  24  98  62  36\n",
      " 114  71]\n",
      "Original: \n",
      "[145.39 -49.88   0.   -24.88 -13.13 -40.45  13.59 144.39 -48.88 -46.21\n",
      "  -2.45  20.75  52.14  55.02 -21.94 115.82  64.76  57.75  54.26  68.15]\n",
      "Symmetric scale: 1.1448031496062991\n",
      "[127 -44   0 -22 -11 -35  12 126 -43 -40  -2  18  46  48 -19 101  57  50\n",
      "  47  60]\n"
     ]
    }
   ],
   "source": [
    "(symmetric_q, symmetric_scale) = symmetric_quantization(params, 8)\n",
    "(symmetric_q2, symmetric_scale2) = symmetric_quantization(params_2, 8)\n",
    "\n",
    "print(f'Original: \\n{np.round(params, 2)}')\n",
    "\n",
    "print(f'Symmetric scale: {symmetric_scale}')\n",
    "print(symmetric_q)\n",
    "\n",
    "print(f'Original: \\n{np.round(params_2, 2)}')\n",
    "print(f'Symmetric scale: {symmetric_scale2}')\n",
    "print(symmetric_q2)\n",
    "\n",
    "#print(f'Asymmetric scale: {asymmetric_scale}, zero: {asymmetric_zero}')\n",
    "#print(asymmetric_q)\n",
    "\n",
    "#print(f'Symmetric scale: {symmetric_scale}')\n",
    "#print(symmetric_q)"
   ]
  },
  {
   "cell_type": "code",
   "execution_count": 16,
   "id": "95c8001a-465f-40a7-a424-442e03d1f7fa",
   "metadata": {},
   "outputs": [
    {
     "name": "stdout",
     "output_type": "stream",
     "text": [
      "Original Sum: \n",
      "[295.39 -78.71   0.    63.28 -12.61  53.45 -14.24 171.54  79.72 -43.22\n",
      " 146.55  50.52 192.76  79.94   6.77 231.02 137.41 100.4  189.31 151.48]\n",
      "Quantised Sum: \n",
      "[254 -68   0  53 -11  45 -12 149  66 -37 124  43 165  69   5 199 119  86\n",
      " 161 131]\n"
     ]
    }
   ],
   "source": [
    "sum = params + params_2\n",
    "print(f'Original Sum: \\n{np.round(sum, 2)}')\n",
    "\n",
    "sumq = symmetric_q + symmetric_q2\n",
    "print(f'Quantised Sum: \\n{np.round(sumq, 2)}')"
   ]
  },
  {
   "cell_type": "code",
   "execution_count": 17,
   "id": "8d6dd547-1129-4743-a36d-c2c7ac829adf",
   "metadata": {},
   "outputs": [
    {
     "data": {
      "text/plain": [
       "array([300.        , -80.31496063,   0.        ,  62.5984252 ,\n",
       "       -12.99212598,  53.1496063 , -14.17322835, 175.98425197,\n",
       "        77.95275591, -43.7007874 , 146.45669291,  50.78740157,\n",
       "       194.88188976,  81.49606299,   5.90551181, 235.03937008,\n",
       "       140.5511811 , 101.57480315, 190.15748031, 154.72440945])"
      ]
     },
     "execution_count": 17,
     "metadata": {},
     "output_type": "execute_result"
    }
   ],
   "source": [
    "sum_dq = symmetric_dequantize(sumq, symmetric_scale)\n",
    "sum_dq"
   ]
  },
  {
   "cell_type": "code",
   "execution_count": 18,
   "id": "c149287f-ea97-4c86-8d7f-20769837118d",
   "metadata": {},
   "outputs": [
    {
     "name": "stdout",
     "output_type": "stream",
     "text": [
      "   Symmetric error: 4.7\n"
     ]
    }
   ],
   "source": [
    "print(f'{\"Symmetric error: \":>20}{np.round(quantization_error(sum, sum_dq), 2)}')\n"
   ]
  },
  {
   "cell_type": "code",
   "execution_count": 8,
   "id": "2a849531-d88f-49cc-ac93-8d8182818b72",
   "metadata": {},
   "outputs": [
    {
     "name": "stdout",
     "output_type": "stream",
     "text": [
      "Original: \n",
      "[150.   -28.83   0.    88.16   0.52  93.9  -27.83  27.15 128.6    2.99\n",
      " 149.    29.77 140.62  24.92  28.71 115.2   72.65  42.65 135.05  83.33]\n",
      "Dequantized asymmetric:\n",
      "[149.37564706 -28.75305882   0.          87.66176471   0.\n",
      "  93.27211765 -28.05176471  26.64917647 128.33682353   2.80517647\n",
      " 148.67435294  29.45435294 140.25882353  24.54529412  28.05176471\n",
      " 115.01223529  72.23329412  42.07764706 134.64847059  82.75270588]\n",
      "Dequantized symmetric:\n",
      "[150.         -28.34645669   0.          88.58267717   0.\n",
      "  94.48818898 -28.34645669  27.16535433 128.74015748   3.54330709\n",
      " 148.81889764  29.52755906 140.5511811   24.80314961  28.34645669\n",
      " 115.7480315   73.22834646  42.51968504 134.64566929  83.85826772]\n"
     ]
    }
   ],
   "source": [
    "# Dequantize the parameters back to float 32 bits\n",
    "params_deq_asymmetric = asymmetric_dequantize(asymmetric_q, asymmetric_scale, asymmetric_zero)\n",
    "params_deq_symmetric = symmetric_dequantize(symmetric_q, symmetric_scale)\n",
    "\n",
    "print(f'Original: \\n{np.round(params, 2)}')\n",
    "\n",
    "print(f'Dequantized asymmetric:')\n",
    "print(params_deq_asymmetric)\n",
    "\n",
    "print(f'Dequantized symmetric:')\n",
    "print(params_deq_symmetric)"
   ]
  },
  {
   "cell_type": "code",
   "execution_count": 9,
   "id": "44c37bff-c9de-4cc4-8fe4-25174584e3d4",
   "metadata": {},
   "outputs": [
    {
     "name": "stdout",
     "output_type": "stream",
     "text": [
      "  Asymmetric error: 0.18\n",
      "   Symmetric error: 0.15\n"
     ]
    }
   ],
   "source": [
    "print(f'{\"Asymmetric error: \":>20}{np.round(quantization_error(params, params_deq_asymmetric), 2)}')\n",
    "print(f'{\"Symmetric error: \":>20}{np.round(quantization_error(params, params_deq_symmetric), 2)}')"
   ]
  },
  {
   "cell_type": "code",
   "execution_count": null,
   "id": "f3f7d88d-0cce-4f0c-80a4-281560fa567f",
   "metadata": {},
   "outputs": [],
   "source": []
  },
  {
   "cell_type": "code",
   "execution_count": null,
   "id": "f8067147-4e07-46b9-92e8-093f9b3a8ef4",
   "metadata": {},
   "outputs": [],
   "source": []
  }
 ],
 "metadata": {
  "kernelspec": {
   "display_name": "Python 3 (ipykernel)",
   "language": "python",
   "name": "python3"
  },
  "language_info": {
   "codemirror_mode": {
    "name": "ipython",
    "version": 3
   },
   "file_extension": ".py",
   "mimetype": "text/x-python",
   "name": "python",
   "nbconvert_exporter": "python",
   "pygments_lexer": "ipython3",
   "version": "3.11.5"
  }
 },
 "nbformat": 4,
 "nbformat_minor": 5
}
