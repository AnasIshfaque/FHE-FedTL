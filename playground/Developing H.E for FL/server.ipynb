{
 "cells": [
  {
   "cell_type": "code",
   "execution_count": 1,
   "id": "7e35c6ae-031c-4445-a8b0-85437e8d61ec",
   "metadata": {},
   "outputs": [],
   "source": [
    "import pickle\n",
    "import tenseal as ts\n",
    "import socket\n",
    "import struct\n",
    "from collections import OrderedDict\n",
    "import copy\n",
    "import torch"
   ]
  },
  {
   "cell_type": "code",
   "execution_count": 2,
   "id": "837387d0-14a4-4ebd-86f1-9469542e885f",
   "metadata": {},
   "outputs": [],
   "source": [
    "with open('public_context.pkl', 'rb') as inp:\n",
    "    public_context_bin = pickle.load(inp)"
   ]
  },
  {
   "cell_type": "code",
   "execution_count": 3,
   "id": "ef94f91e-9124-4b2d-b1e1-2bdde56c1799",
   "metadata": {},
   "outputs": [],
   "source": [
    "public_context = ts.context_from(public_context_bin)"
   ]
  },
  {
   "cell_type": "code",
   "execution_count": 4,
   "id": "959bb286-5a5d-475c-b94a-fad673b36e0b",
   "metadata": {},
   "outputs": [],
   "source": [
    "def send_msg(sock, msg):\n",
    "    # prefix each message with a 4-byte length in network byte order\n",
    "    msg = msg.serialize()\n",
    "    msg = struct.pack('>I', len(msg)) + msg\n",
    "    sock.sendall(msg)\n",
    "    \n",
    "def recv_msg(sock):\n",
    "    # read message length and unpack it into an integer\n",
    "    raw_msglen = recvall(sock, 4)\n",
    "    if not raw_msglen:\n",
    "        return None\n",
    "    \n",
    "    msglen = struct.unpack('>I', raw_msglen)[0]\n",
    "    print(f'msglen: {msglen}')\n",
    "    # read the message data\n",
    "    msg =  recvall(sock, msglen)\n",
    "    msg = ts.ckks_tensor_from(public_context, msg)\n",
    "    \n",
    "    return msg\n",
    "\n",
    "def recvall(sock, n):\n",
    "    # helper function to receive n bytes or return None if EOF is hit\n",
    "    data = b''\n",
    "    \n",
    "    while len(data) < n:\n",
    "        packet = sock.recv(n - len(data))\n",
    "        if not packet:\n",
    "            return None\n",
    "        data += packet\n",
    "  \n",
    "    return data"
   ]
  },
  {
   "cell_type": "code",
   "execution_count": 5,
   "id": "14552f34-de3a-4a6b-b36c-b2f5984421be",
   "metadata": {},
   "outputs": [],
   "source": [
    "client_num = 2\n",
    "client_list = []\n",
    "client_weight_list = []"
   ]
  },
  {
   "cell_type": "code",
   "execution_count": 6,
   "id": "04fb0fc0-2873-437d-839f-2fbfd82b5c67",
   "metadata": {},
   "outputs": [
    {
     "name": "stdout",
     "output_type": "stream",
     "text": [
      "192.168.0.116\n"
     ]
    }
   ],
   "source": [
    "host = socket.gethostbyname(socket.gethostname())\n",
    "port = 10080\n",
    "print(host)"
   ]
  },
  {
   "cell_type": "code",
   "execution_count": 7,
   "id": "856b1ef7-9e81-40e6-bed1-7e0dd826b266",
   "metadata": {},
   "outputs": [
    {
     "name": "stdout",
     "output_type": "stream",
     "text": [
      "Listening\n",
      "Conntected with ('192.168.0.116', 50282)\n",
      "Conntected with ('192.168.0.116', 43288)\n"
     ]
    }
   ],
   "source": [
    "server_soc = socket.socket(socket.AF_INET, socket.SOCK_STREAM)\n",
    "server_soc.bind((host, port))\n",
    "server_soc.listen()\n",
    "print(\"Listening\")\n",
    "for i in range(client_num):    \n",
    "    client, addr = server_soc.accept()\n",
    "    client_list.append(client)\n",
    "    print('Conntected with', addr)"
   ]
  },
  {
   "cell_type": "code",
   "execution_count": 8,
   "id": "ef506a6f-1591-4ece-ad8d-a361dab46718",
   "metadata": {},
   "outputs": [
    {
     "name": "stdout",
     "output_type": "stream",
     "text": [
      "msglen: 571637985\n",
      "msglen: 1116735\n",
      "weights: [<tenseal.tensors.ckkstensor.CKKSTensor object at 0x79a28c857910>, <tenseal.tensors.ckkstensor.CKKSTensor object at 0x79a28c8576d0>]\n",
      "msglen: 571643625\n",
      "msglen: 1116055\n",
      "weights: [<tenseal.tensors.ckkstensor.CKKSTensor object at 0x79a28c857cd0>, <tenseal.tensors.ckkstensor.CKKSTensor object at 0x79a3903a6200>]\n"
     ]
    }
   ],
   "source": [
    "for client in client_list:\n",
    "    weights = []\n",
    "    for i in range(2):\n",
    "        weight = recv_msg(client)\n",
    "        weights.append(weight)\n",
    "    print(f\"weights: {weights}\")\n",
    "    client_weight_list.append(weights)\n",
    "    # client.close()\n",
    "    \n",
    "server_soc.close()"
   ]
  },
  {
   "cell_type": "code",
   "execution_count": 9,
   "id": "c1cd5354-3e25-44f3-aee3-aec0f6a10c4f",
   "metadata": {},
   "outputs": [],
   "source": [
    "def average_weights(w, datasize):\n",
    "    \"\"\"\n",
    "    Returns the average of the weights.\n",
    "    \"\"\"\n",
    "    for i, data in enumerate(datasize):\n",
    "        for j in range(len(w[i])):\n",
    "            w[i][j] *= float(data)\n",
    "    \n",
    "    w_avg = copy.deepcopy(w[0])\n",
    "    \n",
    "    # when client use only one kinds of device\n",
    "\n",
    "    for i in range(len(w_avg)):\n",
    "        for j in range(1, len(w)):\n",
    "            w_avg[i] += w[j][i]\n",
    "            #eval add\n",
    "        w_avg[i] = w_avg[i]* (1/float(sum(datasize)))\n",
    "\n",
    "    return w_avg"
   ]
  },
  {
   "cell_type": "code",
   "execution_count": 10,
   "id": "253b18cb-a274-4390-9a9b-175c28e1e4fe",
   "metadata": {},
   "outputs": [],
   "source": [
    "avg_weight = average_weights(client_weight_list, [87, 87])"
   ]
  },
  {
   "cell_type": "code",
   "execution_count": 11,
   "id": "20a531cb-be56-4b6a-945c-ad4333aaf9f7",
   "metadata": {},
   "outputs": [],
   "source": [
    "for client in client_list:\n",
    "    for weight in avg_weight:    \n",
    "        send_msg(client, weight)\n",
    "    client.close()"
   ]
  },
  {
   "cell_type": "code",
   "execution_count": 12,
   "id": "745a9bf3-6e17-4f5f-a61e-57ccacd04328",
   "metadata": {},
   "outputs": [],
   "source": [
    "server_soc.close()"
   ]
  },
  {
   "cell_type": "code",
   "execution_count": null,
   "id": "cb82577e-f954-43a0-9be7-ae02011e522f",
   "metadata": {},
   "outputs": [],
   "source": []
  }
 ],
 "metadata": {
  "kernelspec": {
   "display_name": "Python 3 (ipykernel)",
   "language": "python",
   "name": "python3"
  },
  "language_info": {
   "codemirror_mode": {
    "name": "ipython",
    "version": 3
   },
   "file_extension": ".py",
   "mimetype": "text/x-python",
   "name": "python",
   "nbconvert_exporter": "python",
   "pygments_lexer": "ipython3",
   "version": "3.10.14"
  }
 },
 "nbformat": 4,
 "nbformat_minor": 5
}
