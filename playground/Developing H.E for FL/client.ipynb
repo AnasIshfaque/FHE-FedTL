{
 "cells": [
  {
   "cell_type": "markdown",
   "id": "5dc4012b-05c7-4cf9-b57f-12f5341db23f",
   "metadata": {},
   "source": [
    "## Loading the shared context"
   ]
  },
  {
   "cell_type": "code",
   "execution_count": 1,
   "id": "98694e86-32e8-43e3-b187-1817fe2188b4",
   "metadata": {},
   "outputs": [],
   "source": [
    "import pickle\n",
    "import tenseal as ts\n",
    "import torch\n",
    "from torch import nn\n",
    "import socket\n",
    "import struct\n",
    "from torchvision import models\n",
    "import numpy as np"
   ]
  },
  {
   "cell_type": "code",
   "execution_count": 2,
   "id": "1d1978c4-d966-42e5-9435-518da76132c8",
   "metadata": {},
   "outputs": [],
   "source": [
    "with open('shared_context.pkl', 'rb') as inp:\n",
    "    shared_context_bin = pickle.load(inp)"
   ]
  },
  {
   "cell_type": "code",
   "execution_count": 3,
   "id": "8dbc3139-df13-4fc5-a117-9ab22e8b83e0",
   "metadata": {},
   "outputs": [],
   "source": [
    "shared_context = ts.context_from(shared_context_bin)"
   ]
  },
  {
   "cell_type": "code",
   "execution_count": 4,
   "id": "c80a4d3a-651a-406a-afd1-a88dae5a1f8a",
   "metadata": {},
   "outputs": [],
   "source": [
    "sk = shared_context.secret_key()"
   ]
  },
  {
   "cell_type": "code",
   "execution_count": 5,
   "id": "cf961331-f6c7-42a0-b579-e114f28252b6",
   "metadata": {},
   "outputs": [
    {
     "name": "stdout",
     "output_type": "stream",
     "text": [
      "<tenseal.enc_context.SecretKey object at 0x730de8f84820>\n"
     ]
    }
   ],
   "source": [
    "print(sk)"
   ]
  },
  {
   "cell_type": "code",
   "execution_count": 6,
   "id": "c4d92509-f772-4e02-9da9-2a085d0b3ea2",
   "metadata": {},
   "outputs": [
    {
     "name": "stderr",
     "output_type": "stream",
     "text": [
      "/home/anas/anaconda3/envs/pylinenv/lib/python3.10/site-packages/torchvision/models/_utils.py:223: UserWarning: Arguments other than a weight enum or `None` for 'weights' are deprecated since 0.13 and may be removed in the future. The current behavior is equivalent to passing `weights=SqueezeNet1_1_Weights.IMAGENET1K_V1`. You can also use `weights=SqueezeNet1_1_Weights.DEFAULT` to get the most up-to-date weights.\n",
      "  warnings.warn(msg)\n"
     ]
    }
   ],
   "source": [
    "model = models.squeezenet1_1(weights=True)"
   ]
  },
  {
   "cell_type": "code",
   "execution_count": 7,
   "id": "6d7cc346-dfca-4d06-bccb-a8123799e651",
   "metadata": {},
   "outputs": [],
   "source": [
    "num_classes = 3\n",
    "in_ftrs = model.classifier[1].in_channels\n",
    "features = list(model.classifier.children())[:-3] # Remove last 3 layers\n",
    "features.extend([nn.Conv2d(in_ftrs, num_classes, kernel_size=1)]) # Add\n",
    "features.extend([nn.ReLU(inplace=True)]) # Add\n",
    "features.extend([nn.AdaptiveAvgPool2d(output_size=(1,1))]) # Add\n",
    "model.classifier = nn.Sequential(*features)"
   ]
  },
  {
   "cell_type": "code",
   "execution_count": 8,
   "id": "1ae508ee-6010-44e0-8d06-58be2bd4fb7f",
   "metadata": {},
   "outputs": [
    {
     "data": {
      "text/plain": [
       "[tensor([[[[ 0.0228]],\n",
       " \n",
       "          [[ 0.0031]],\n",
       " \n",
       "          [[-0.0245]],\n",
       " \n",
       "          ...,\n",
       " \n",
       "          [[-0.0427]],\n",
       " \n",
       "          [[-0.0325]],\n",
       " \n",
       "          [[ 0.0223]]],\n",
       " \n",
       " \n",
       "         [[[ 0.0228]],\n",
       " \n",
       "          [[-0.0250]],\n",
       " \n",
       "          [[-0.0148]],\n",
       " \n",
       "          ...,\n",
       " \n",
       "          [[-0.0296]],\n",
       " \n",
       "          [[-0.0300]],\n",
       " \n",
       "          [[ 0.0411]]],\n",
       " \n",
       " \n",
       "         [[[ 0.0044]],\n",
       " \n",
       "          [[-0.0181]],\n",
       " \n",
       "          [[ 0.0328]],\n",
       " \n",
       "          ...,\n",
       " \n",
       "          [[-0.0306]],\n",
       " \n",
       "          [[ 0.0186]],\n",
       " \n",
       "          [[-0.0204]]]]),\n",
       " tensor([ 0.0204, -0.0089, -0.0177])]"
      ]
     },
     "execution_count": 8,
     "metadata": {},
     "output_type": "execute_result"
    }
   ],
   "source": [
    "last_layer_list = [model.state_dict()['classifier.1.weight'], model.state_dict()['classifier.1.bias']]\n",
    "last_layer_list"
   ]
  },
  {
   "cell_type": "code",
   "execution_count": 9,
   "id": "a66e09f3-a241-4adc-bf19-5a20f9c28109",
   "metadata": {},
   "outputs": [
    {
     "name": "stdout",
     "output_type": "stream",
     "text": [
      "torch.float32\n",
      "torch.float32\n"
     ]
    }
   ],
   "source": [
    "for tens in last_layer_list:\n",
    "    print(tens.dtype)"
   ]
  },
  {
   "cell_type": "code",
   "execution_count": 10,
   "id": "980902e5-73b8-4cb9-8fdb-e627396a42d6",
   "metadata": {},
   "outputs": [
    {
     "name": "stdout",
     "output_type": "stream",
     "text": [
      "CPU times: user 8 s, sys: 644 ms, total: 8.65 s\n",
      "Wall time: 842 ms\n"
     ]
    }
   ],
   "source": [
    "%%time\n",
    "encrypted_lll = []\n",
    "ten_shapes = []\n",
    "for param in last_layer_list:\n",
    "    plain_ten = ts.plain_tensor(param)\n",
    "    encrypted_ten = ts.ckks_tensor(shared_context, plain_ten)\n",
    "    encrypted_lll.append(encrypted_ten)"
   ]
  },
  {
   "cell_type": "code",
   "execution_count": 11,
   "id": "4678152f-8613-4c05-9035-f32951a31c1e",
   "metadata": {},
   "outputs": [
    {
     "name": "stdout",
     "output_type": "stream",
     "text": [
      "[tensor([[[[ 0.0227]],\n",
      "\n",
      "         [[ 0.0032]],\n",
      "\n",
      "         [[-0.0246]],\n",
      "\n",
      "         ...,\n",
      "\n",
      "         [[-0.0426]],\n",
      "\n",
      "         [[-0.0325]],\n",
      "\n",
      "         [[ 0.0224]]],\n",
      "\n",
      "\n",
      "        [[[ 0.0228]],\n",
      "\n",
      "         [[-0.0249]],\n",
      "\n",
      "         [[-0.0150]],\n",
      "\n",
      "         ...,\n",
      "\n",
      "         [[-0.0297]],\n",
      "\n",
      "         [[-0.0299]],\n",
      "\n",
      "         [[ 0.0411]]],\n",
      "\n",
      "\n",
      "        [[[ 0.0045]],\n",
      "\n",
      "         [[-0.0181]],\n",
      "\n",
      "         [[ 0.0328]],\n",
      "\n",
      "         ...,\n",
      "\n",
      "         [[-0.0307]],\n",
      "\n",
      "         [[ 0.0185]],\n",
      "\n",
      "         [[-0.0203]]]]), tensor([ 0.0205, -0.0091, -0.0177])]\n"
     ]
    }
   ],
   "source": [
    "decrypted_lll = []\n",
    "for param in encrypted_lll:\n",
    "    decrypted_lll.append(torch.tensor(param.decrypt(sk).tolist()))\n",
    "print(decrypted_lll)"
   ]
  },
  {
   "cell_type": "code",
   "execution_count": 12,
   "id": "e3776d8b-ec7d-48c3-a629-22cfa0feab59",
   "metadata": {},
   "outputs": [],
   "source": [
    "def send_msg(sock, msg):\n",
    "    # prefix each message with a 4-byte length in network byte order\n",
    "    msg = msg.serialize()\n",
    "    msg = struct.pack('>I', len(msg)) + msg\n",
    "    sock.sendall(msg)\n",
    "    \n",
    "def recv_msg(sock):\n",
    "    # read message length and unpack it into an integer\n",
    "    raw_msglen = recvall(sock, 4)\n",
    "    if not raw_msglen:\n",
    "        return None\n",
    "    \n",
    "    msglen = struct.unpack('>I', raw_msglen)[0]\n",
    "\n",
    "    # read the message data\n",
    "    msg =  recvall(sock, msglen)\n",
    "    msg = ts.ckks_tensor_from(shared_context, msg)\n",
    "    \n",
    "    return msg\n",
    "\n",
    "def recvall(sock, n):\n",
    "    # helper function to receive n bytes or return None if EOF is hit\n",
    "    data = b''\n",
    "    \n",
    "    while len(data) < n:\n",
    "        packet = sock.recv(n - len(data))\n",
    "        if not packet:\n",
    "            return None\n",
    "        data += packet\n",
    "  \n",
    "    return data"
   ]
  },
  {
   "cell_type": "code",
   "execution_count": 13,
   "id": "833de80b-3ec0-4ba1-8812-b9f9e8b3160e",
   "metadata": {},
   "outputs": [
    {
     "name": "stdout",
     "output_type": "stream",
     "text": [
      "192.168.0.116\n"
     ]
    }
   ],
   "source": [
    "host = socket.gethostbyname(socket.gethostname())\n",
    "port = 10080\n",
    "print(host)"
   ]
  },
  {
   "cell_type": "code",
   "execution_count": 14,
   "id": "3bf924c1-770a-4f25-be8b-1f1a0c2edfe2",
   "metadata": {},
   "outputs": [],
   "source": [
    "client_soc = socket.socket(socket.AF_INET, socket.SOCK_STREAM)\n",
    "client_soc.connect((host, port))"
   ]
  },
  {
   "cell_type": "code",
   "execution_count": 15,
   "id": "73e3e707-6553-40b9-a412-3f7a504e0339",
   "metadata": {},
   "outputs": [],
   "source": [
    "for tens in encrypted_lll:\n",
    "    send_msg(client_soc, tens)\n",
    "avg_weights = []\n",
    "for i in range(2):\n",
    "    weight = recv_msg(client_soc)\n",
    "    avg_weights.append(weight)\n",
    "client_soc.close()"
   ]
  },
  {
   "cell_type": "code",
   "execution_count": 16,
   "id": "51852701-08c1-4d9c-ace9-18e714144e2c",
   "metadata": {},
   "outputs": [
    {
     "name": "stdout",
     "output_type": "stream",
     "text": [
      "[tensor([[[[ 0.0160]],\n",
      "\n",
      "         [[ 0.0025]],\n",
      "\n",
      "         [[-0.0252]],\n",
      "\n",
      "         ...,\n",
      "\n",
      "         [[-0.0331]],\n",
      "\n",
      "         [[-0.0214]],\n",
      "\n",
      "         [[ 0.0309]]],\n",
      "\n",
      "\n",
      "        [[[ 0.0309]],\n",
      "\n",
      "         [[-0.0063]],\n",
      "\n",
      "         [[ 0.0139]],\n",
      "\n",
      "         ...,\n",
      "\n",
      "         [[-0.0302]],\n",
      "\n",
      "         [[ 0.0053]],\n",
      "\n",
      "         [[ 0.0249]]],\n",
      "\n",
      "\n",
      "        [[[-0.0136]],\n",
      "\n",
      "         [[-0.0204]],\n",
      "\n",
      "         [[ 0.0294]],\n",
      "\n",
      "         ...,\n",
      "\n",
      "         [[ 0.0040]],\n",
      "\n",
      "         [[ 0.0173]],\n",
      "\n",
      "         [[-0.0326]]]]), tensor([ 0.0036,  0.0034, -0.0304])]\n"
     ]
    }
   ],
   "source": [
    "decrypted_avg_weights = []\n",
    "for param in avg_weights:\n",
    "    decrypted_avg_weights.append(torch.tensor(param.decrypt(sk).tolist()))\n",
    "print(decrypted_avg_weights)"
   ]
  }
 ],
 "metadata": {
  "kernelspec": {
   "display_name": "Python 3 (ipykernel)",
   "language": "python",
   "name": "python3"
  },
  "language_info": {
   "codemirror_mode": {
    "name": "ipython",
    "version": 3
   },
   "file_extension": ".py",
   "mimetype": "text/x-python",
   "name": "python",
   "nbconvert_exporter": "python",
   "pygments_lexer": "ipython3",
   "version": "3.10.14"
  }
 },
 "nbformat": 4,
 "nbformat_minor": 5
}
