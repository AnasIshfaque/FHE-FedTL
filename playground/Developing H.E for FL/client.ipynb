{
 "cells": [
  {
   "cell_type": "markdown",
   "id": "5dc4012b-05c7-4cf9-b57f-12f5341db23f",
   "metadata": {},
   "source": [
    "## Loading the shared context"
   ]
  },
  {
   "cell_type": "code",
   "execution_count": 1,
   "id": "0590070c-145c-49af-b5fc-269d6fefff72",
   "metadata": {},
   "outputs": [],
   "source": [
    "# import bz2\n",
    "# import lzma\n",
    "# import zlib\n",
    "# import sys\n",
    "\n",
    "# # Sample data (replace with your actual data)\n",
    "# data = b\"This is some data that we want to compress significantly.\"\n",
    "\n",
    "# # Original data size\n",
    "# original_size = sys.getsizeof(data)\n",
    "# original_size = len(data)\n",
    "\n",
    "\n",
    "# # Compress using bz2\n",
    "# compressed_bz2 = bz2.compress(data)\n",
    "\n",
    "# # Compress using lzma (LZMA algorithm)\n",
    "# compressed_lzma = lzma.compress(data)\n",
    "\n",
    "# compressed_zlib = zlib.compress(data)\n",
    "\n",
    "# # Compressed data size\n",
    "# # compressed_size_bz2 = sys.getsizeof(compressed_bz2)\n",
    "# # compressed_size_lzma = sys.getsizeof(compressed_lzma)\n",
    "# # compressed_size_zlib = sys.getsizeof(compressed_zlib)\n",
    "# compressed_size_bz2 = len(compressed_bz2)\n",
    "# compressed_size_lzma = len(compressed_lzma)\n",
    "# compressed_size_zlib = len(compressed_zlib)\n",
    "\n",
    "\n",
    "# # Calculate compression ratios\n",
    "# compression_ratio_bz2 = (original_size - compressed_size_bz2) / original_size * 100\n",
    "# compression_ratio_lzma = (original_size - compressed_size_lzma) / original_size * 100\n",
    "# compression_ratio_zlib = (original_size - compressed_size_zlib) / original_size * 100\n",
    "\n",
    "\n",
    "# print(\"Original data size:\", original_size, \"bytes\")\n",
    "# print(\"Compressed size (bz2):\", compressed_size_bz2, \"bytes\")\n",
    "# print(\"Compression ratio (bz2):\", compression_ratio_bz2, \"%\")\n",
    "# print(\"Compressed size (lzma):\", compressed_size_lzma, \"bytes\")\n",
    "# print(\"Compression ratio (lzma):\", compression_ratio_lzma, \"%\")\n",
    "# print(\"Compressed size (zlib):\", compressed_size_zlib, \"bytes\")\n",
    "# print(\"Compression ratio (zlib):\", compression_ratio_zlib, \"%\")"
   ]
  },
  {
   "cell_type": "code",
   "execution_count": 2,
   "id": "98694e86-32e8-43e3-b187-1817fe2188b4",
   "metadata": {},
   "outputs": [],
   "source": [
    "import pickle\n",
    "import tenseal as ts\n",
    "import torch\n",
    "from torch import nn\n",
    "import socket\n",
    "import struct\n",
    "from torchvision import models\n",
    "import numpy as np\n",
    "import zlib\n",
    "import gzip\n",
    "import sys"
   ]
  },
  {
   "cell_type": "code",
   "execution_count": 3,
   "id": "1d1978c4-d966-42e5-9435-518da76132c8",
   "metadata": {},
   "outputs": [],
   "source": [
    "with open('shared_context.pkl', 'rb') as inp:\n",
    "    shared_context_bin = pickle.load(inp)"
   ]
  },
  {
   "cell_type": "code",
   "execution_count": 4,
   "id": "8dbc3139-df13-4fc5-a117-9ab22e8b83e0",
   "metadata": {},
   "outputs": [],
   "source": [
    "shared_context = ts.context_from(shared_context_bin)"
   ]
  },
  {
   "cell_type": "code",
   "execution_count": 5,
   "id": "c80a4d3a-651a-406a-afd1-a88dae5a1f8a",
   "metadata": {},
   "outputs": [],
   "source": [
    "sk = shared_context.secret_key()"
   ]
  },
  {
   "cell_type": "code",
   "execution_count": 6,
   "id": "cf961331-f6c7-42a0-b579-e114f28252b6",
   "metadata": {},
   "outputs": [
    {
     "name": "stdout",
     "output_type": "stream",
     "text": [
      "<tenseal.enc_context.SecretKey object at 0x7a19b3a630d0>\n"
     ]
    }
   ],
   "source": [
    "print(sk)"
   ]
  },
  {
   "cell_type": "code",
   "execution_count": 7,
   "id": "c4d92509-f772-4e02-9da9-2a085d0b3ea2",
   "metadata": {},
   "outputs": [
    {
     "name": "stderr",
     "output_type": "stream",
     "text": [
      "/home/anas/anaconda3/envs/pylinenv/lib/python3.10/site-packages/torchvision/models/_utils.py:223: UserWarning: Arguments other than a weight enum or `None` for 'weights' are deprecated since 0.13 and may be removed in the future. The current behavior is equivalent to passing `weights=SqueezeNet1_1_Weights.IMAGENET1K_V1`. You can also use `weights=SqueezeNet1_1_Weights.DEFAULT` to get the most up-to-date weights.\n",
      "  warnings.warn(msg)\n"
     ]
    }
   ],
   "source": [
    "model = models.squeezenet1_1(weights=True)"
   ]
  },
  {
   "cell_type": "code",
   "execution_count": 8,
   "id": "6d7cc346-dfca-4d06-bccb-a8123799e651",
   "metadata": {},
   "outputs": [],
   "source": [
    "num_classes = 2\n",
    "in_ftrs = model.classifier[1].in_channels\n",
    "features = list(model.classifier.children())[:-3] # Remove last 3 layers\n",
    "features.extend([nn.Conv2d(in_ftrs, num_classes, kernel_size=1)]) # Add\n",
    "features.extend([nn.ReLU(inplace=True)]) # Add\n",
    "features.extend([nn.AdaptiveAvgPool2d(output_size=(1,1))]) # Add\n",
    "model.classifier = nn.Sequential(*features)"
   ]
  },
  {
   "cell_type": "code",
   "execution_count": 9,
   "id": "1ae508ee-6010-44e0-8d06-58be2bd4fb7f",
   "metadata": {},
   "outputs": [
    {
     "data": {
      "text/plain": [
       "[tensor([[[[-0.0134]],\n",
       " \n",
       "          [[ 0.0313]],\n",
       " \n",
       "          [[-0.0142]],\n",
       " \n",
       "          ...,\n",
       " \n",
       "          [[-0.0437]],\n",
       " \n",
       "          [[ 0.0002]],\n",
       " \n",
       "          [[ 0.0244]]],\n",
       " \n",
       " \n",
       "         [[[ 0.0061]],\n",
       " \n",
       "          [[-0.0251]],\n",
       " \n",
       "          [[ 0.0036]],\n",
       " \n",
       "          ...,\n",
       " \n",
       "          [[-0.0420]],\n",
       " \n",
       "          [[-0.0269]],\n",
       " \n",
       "          [[ 0.0079]]]]),\n",
       " tensor([0.0145, 0.0152])]"
      ]
     },
     "execution_count": 9,
     "metadata": {},
     "output_type": "execute_result"
    }
   ],
   "source": [
    "last_layer_list = [model.state_dict()['classifier.1.weight'], model.state_dict()['classifier.1.bias']]\n",
    "last_layer_list"
   ]
  },
  {
   "cell_type": "code",
   "execution_count": 10,
   "id": "a66e09f3-a241-4adc-bf19-5a20f9c28109",
   "metadata": {},
   "outputs": [
    {
     "name": "stdout",
     "output_type": "stream",
     "text": [
      "torch.float32\n",
      "torch.float32\n"
     ]
    }
   ],
   "source": [
    "for tens in last_layer_list:\n",
    "    print(tens.dtype)"
   ]
  },
  {
   "cell_type": "code",
   "execution_count": 11,
   "id": "980902e5-73b8-4cb9-8fdb-e627396a42d6",
   "metadata": {},
   "outputs": [
    {
     "name": "stdout",
     "output_type": "stream",
     "text": [
      "CPU times: user 5.4 s, sys: 405 ms, total: 5.81 s\n",
      "Wall time: 562 ms\n"
     ]
    }
   ],
   "source": [
    "%%time\n",
    "encrypted_lll = []\n",
    "\n",
    "for param in last_layer_list:\n",
    "    plain_ten = ts.plain_tensor(param)\n",
    "    encrypted_ten = ts.ckks_tensor(shared_context, plain_ten)\n",
    "    encrypted_lll.append(encrypted_ten)"
   ]
  },
  {
   "cell_type": "code",
   "execution_count": 12,
   "id": "5a8f4ec1-87c6-4d7d-897b-e2dc451cf62e",
   "metadata": {},
   "outputs": [],
   "source": [
    "def print_tens_size(tens_list):\n",
    "    total_size = 0\n",
    "    for param in tens_list:\n",
    "        ten_size = sys.getsizeof(param)\n",
    "        # ten_size = len(param) # TypeError: object of type 'CKKSTensor' has no len()\n",
    "        print(f'size of tensor: {ten_size}')\n",
    "        total_size += ten_size\n",
    "    \n",
    "    print(f'total size of list: {total_size}')"
   ]
  },
  {
   "cell_type": "code",
   "execution_count": 13,
   "id": "6494e34d-c7b5-4560-b1c8-0864bc98a23b",
   "metadata": {},
   "outputs": [
    {
     "data": {
      "text/plain": [
       "tenseal.tensors.ckkstensor.CKKSTensor"
      ]
     },
     "execution_count": 13,
     "metadata": {},
     "output_type": "execute_result"
    }
   ],
   "source": [
    "type(encrypted_lll[0])"
   ]
  },
  {
   "cell_type": "code",
   "execution_count": 14,
   "id": "ac476ce9-2175-4727-bdf1-4980ad7e03d6",
   "metadata": {},
   "outputs": [
    {
     "name": "stdout",
     "output_type": "stream",
     "text": [
      "size of tensor: 48\n",
      "size of tensor: 48\n",
      "total size of list: 96\n"
     ]
    }
   ],
   "source": [
    "print_tens_size(encrypted_lll)"
   ]
  },
  {
   "cell_type": "code",
   "execution_count": 15,
   "id": "5899d52b-6bb6-4917-9d03-9fa98b4b273c",
   "metadata": {},
   "outputs": [],
   "source": [
    "# serialized_list = []\n",
    "# for param in encrypted_lll:\n",
    "#     serialized_list.append(param.serialize())"
   ]
  },
  {
   "cell_type": "code",
   "execution_count": 16,
   "id": "c9b94593-b165-4670-ab70-5998e782e646",
   "metadata": {},
   "outputs": [],
   "source": [
    "# type(serialized_list[0])"
   ]
  },
  {
   "cell_type": "code",
   "execution_count": 17,
   "id": "79391209-cb04-4a0b-b357-1662ca42f9fe",
   "metadata": {},
   "outputs": [],
   "source": [
    "# print_tens_size(serialized_list) # using len()"
   ]
  },
  {
   "cell_type": "code",
   "execution_count": 18,
   "id": "6f83c8df-ce37-478f-b9e8-fd77ed31e2f3",
   "metadata": {},
   "outputs": [],
   "source": [
    "# print_tens_size(serialized_list) # using sys.getsizeof()"
   ]
  },
  {
   "cell_type": "code",
   "execution_count": 19,
   "id": "d0a8a31f-3904-4a10-a918-bc7aeeb5040f",
   "metadata": {},
   "outputs": [],
   "source": [
    "# %%time\n",
    "# compressed_list = []\n",
    "# for param in serialized_list:\n",
    "#     compressed_list.append(zlib.compress(param))\n",
    "    "
   ]
  },
  {
   "cell_type": "code",
   "execution_count": 20,
   "id": "251b1373-e962-452c-95cf-b1ba67eadc26",
   "metadata": {},
   "outputs": [],
   "source": [
    "# print_tens_size(compressed_list)"
   ]
  },
  {
   "cell_type": "code",
   "execution_count": 21,
   "id": "4678152f-8613-4c05-9035-f32951a31c1e",
   "metadata": {},
   "outputs": [
    {
     "name": "stdout",
     "output_type": "stream",
     "text": [
      "[tensor([[[[-0.0136]],\n",
      "\n",
      "         [[ 0.0306]],\n",
      "\n",
      "         [[-0.0152]],\n",
      "\n",
      "         ...,\n",
      "\n",
      "         [[-0.0438]],\n",
      "\n",
      "         [[-0.0008]],\n",
      "\n",
      "         [[ 0.0243]]],\n",
      "\n",
      "\n",
      "        [[[ 0.0059]],\n",
      "\n",
      "         [[-0.0252]],\n",
      "\n",
      "         [[ 0.0039]],\n",
      "\n",
      "         ...,\n",
      "\n",
      "         [[-0.0427]],\n",
      "\n",
      "         [[-0.0266]],\n",
      "\n",
      "         [[ 0.0073]]]]), tensor([0.0135, 0.0147])]\n"
     ]
    }
   ],
   "source": [
    "decrypted_lll = []\n",
    "for param in encrypted_lll:\n",
    "    decrypted_lll.append(torch.tensor(param.decrypt(sk).tolist()))\n",
    "print(decrypted_lll)"
   ]
  },
  {
   "cell_type": "code",
   "execution_count": 22,
   "id": "e3776d8b-ec7d-48c3-a629-22cfa0feab59",
   "metadata": {},
   "outputs": [],
   "source": [
    "def send_msg(sock, msg):\n",
    "    # prefix each message with a 4-byte length in network byte order\n",
    "    msg = msg.serialize()\n",
    "    msg = zlib.compress(msg)\n",
    "    msg = struct.pack('>I', len(msg)) + msg\n",
    "    sock.sendall(msg)\n",
    "    \n",
    "def recv_msg(sock):\n",
    "    # read message length and unpack it into an integer\n",
    "    raw_msglen = recvall(sock, 4)\n",
    "    if not raw_msglen:\n",
    "        return None\n",
    "    \n",
    "    msglen = struct.unpack('>I', raw_msglen)[0]\n",
    "\n",
    "    # read the message data\n",
    "    msg =  recvall(sock, msglen)\n",
    "    msg = zlib.decompress(msg)\n",
    "    msg = ts.ckks_tensor_from(shared_context, msg)\n",
    "    \n",
    "    return msg\n",
    "\n",
    "def recvall(sock, n):\n",
    "    # helper function to receive n bytes or return None if EOF is hit\n",
    "    data = b''\n",
    "    \n",
    "    while len(data) < n:\n",
    "        packet = sock.recv(n - len(data))\n",
    "        if not packet:\n",
    "            return None\n",
    "        data += packet\n",
    "  \n",
    "    return data"
   ]
  },
  {
   "cell_type": "code",
   "execution_count": 23,
   "id": "833de80b-3ec0-4ba1-8812-b9f9e8b3160e",
   "metadata": {},
   "outputs": [
    {
     "name": "stdout",
     "output_type": "stream",
     "text": [
      "192.168.0.245\n"
     ]
    }
   ],
   "source": [
    "host = socket.gethostbyname(socket.gethostname())\n",
    "port = 10080\n",
    "print(host)"
   ]
  },
  {
   "cell_type": "code",
   "execution_count": 24,
   "id": "3bf924c1-770a-4f25-be8b-1f1a0c2edfe2",
   "metadata": {},
   "outputs": [],
   "source": [
    "client_soc = socket.socket(socket.AF_INET, socket.SOCK_STREAM)\n",
    "client_soc.connect((host, port))"
   ]
  },
  {
   "cell_type": "code",
   "execution_count": 25,
   "id": "73e3e707-6553-40b9-a412-3f7a504e0339",
   "metadata": {},
   "outputs": [],
   "source": [
    "for tens in encrypted_lll:\n",
    "    send_msg(client_soc, tens)\n",
    "avg_weights = []\n",
    "for i in range(2):\n",
    "    weight = recv_msg(client_soc)\n",
    "    avg_weights.append(weight)\n",
    "client_soc.close()"
   ]
  },
  {
   "cell_type": "code",
   "execution_count": 26,
   "id": "51852701-08c1-4d9c-ace9-18e714144e2c",
   "metadata": {},
   "outputs": [
    {
     "name": "stdout",
     "output_type": "stream",
     "text": [
      "[tensor([[[[-0.0168]],\n",
      "\n",
      "         [[ 0.0446]],\n",
      "\n",
      "         [[-0.0057]],\n",
      "\n",
      "         ...,\n",
      "\n",
      "         [[-0.0585]],\n",
      "\n",
      "         [[-0.0152]],\n",
      "\n",
      "         [[ 0.0124]]],\n",
      "\n",
      "\n",
      "        [[[ 0.0136]],\n",
      "\n",
      "         [[ 0.0088]],\n",
      "\n",
      "         [[ 0.0309]],\n",
      "\n",
      "         ...,\n",
      "\n",
      "         [[-0.0260]],\n",
      "\n",
      "         [[-0.0102]],\n",
      "\n",
      "         [[ 0.0132]]]]), tensor([ 0.0213, -0.0144])]\n"
     ]
    }
   ],
   "source": [
    "decrypted_avg_weights = []\n",
    "for param in avg_weights:\n",
    "    decrypted_avg_weights.append(torch.tensor(param.decrypt(sk).tolist()))\n",
    "print(decrypted_avg_weights)"
   ]
  }
 ],
 "metadata": {
  "kernelspec": {
   "display_name": "Python 3 (ipykernel)",
   "language": "python",
   "name": "python3"
  },
  "language_info": {
   "codemirror_mode": {
    "name": "ipython",
    "version": 3
   },
   "file_extension": ".py",
   "mimetype": "text/x-python",
   "name": "python",
   "nbconvert_exporter": "python",
   "pygments_lexer": "ipython3",
   "version": "3.10.14"
  }
 },
 "nbformat": 4,
 "nbformat_minor": 5
}
