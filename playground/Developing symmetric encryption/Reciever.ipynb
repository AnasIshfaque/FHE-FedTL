{
 "cells": [
  {
   "cell_type": "code",
   "execution_count": 7,
   "id": "8dc05ea4-87f6-4b62-9346-fda64ae0e5ae",
   "metadata": {},
   "outputs": [],
   "source": [
    "import socket\n",
    "import tqdm\n",
    "from Crypto.Cipher import AES\n",
    "import pickle\n",
    "import struct\n",
    "import torch\n",
    "from torch import nn"
   ]
  },
  {
   "cell_type": "code",
   "execution_count": 2,
   "id": "7f8b9be1-f6ea-42a9-b2ff-fad83d28b924",
   "metadata": {},
   "outputs": [],
   "source": [
    "# setting key and nonce of 16 bytes\n",
    "key = b\"FedLwithHEandIoT\"\n",
    "nonce = b\"FedLwithHEandIoT\""
   ]
  },
  {
   "cell_type": "code",
   "execution_count": 3,
   "id": "250e0a4f-2a70-4d4e-8499-7998e6a178da",
   "metadata": {},
   "outputs": [
    {
     "name": "stdout",
     "output_type": "stream",
     "text": [
      "192.168.0.120\n"
     ]
    }
   ],
   "source": [
    "host = socket.gethostbyname(socket.gethostname())\n",
    "port = 10080\n",
    "print(host)"
   ]
  },
  {
   "cell_type": "code",
   "execution_count": 4,
   "id": "f0c1dba2-b5f5-41fa-a720-63c050e47cce",
   "metadata": {},
   "outputs": [
    {
     "name": "stdout",
     "output_type": "stream",
     "text": [
      "Listening\n",
      "Conntected with ('192.168.0.120', 64147)\n"
     ]
    }
   ],
   "source": [
    "server_soc = socket.socket(socket.AF_INET, socket.SOCK_STREAM)\n",
    "server_soc.bind((host, port))\n",
    "server_soc.listen()\n",
    "print(\"Listening\")\n",
    "client, addr = server_soc.accept()\n",
    "print('Conntected with', addr)"
   ]
  },
  {
   "cell_type": "code",
   "execution_count": 5,
   "id": "d35c70bf-19d4-47bc-96bb-3f55a53fa708",
   "metadata": {},
   "outputs": [],
   "source": [
    "def recv_msg(sock):\n",
    "    # read message length and unpack it into an integer\n",
    "    raw_msglen = recvall(sock, 4, decrypt=False)\n",
    "    if not raw_msglen:\n",
    "        return None\n",
    "    \n",
    "    msglen = struct.unpack('>I', raw_msglen)[0]\n",
    "\n",
    "    # read the message data\n",
    "    msg =  recvall(sock, msglen)\n",
    "    msg = pickle.loads(msg)\n",
    "    return msg\n",
    "\n",
    "def recvall(sock, n, decrypt=True):\n",
    "    # helper function to receive n bytes or return None if EOF is hit\n",
    "    data = b''\n",
    "    \n",
    "    while len(data) < n:\n",
    "        packet = sock.recv(n - len(data))\n",
    "        if not packet:\n",
    "            return None\n",
    "        data += packet\n",
    "        \n",
    "    if decrypt == True:\n",
    "        engine = AES.new(key, AES.MODE_EAX, nonce)\n",
    "        data = engine.decrypt(data)\n",
    "  \n",
    "    return data"
   ]
  },
  {
   "cell_type": "code",
   "execution_count": 6,
   "id": "5249942e-0edf-432a-9ef6-7e6871de81b4",
   "metadata": {},
   "outputs": [
    {
     "name": "stdout",
     "output_type": "stream",
     "text": [
      "weights: OrderedDict([('weights', tensor([0.3367])), ('bias', tensor([0.1288]))])\n"
     ]
    }
   ],
   "source": [
    "weights = recv_msg(client)\n",
    "print(f\"weights: {weights}\")\n",
    "\n",
    "client.close()\n",
    "server_soc.close()"
   ]
  },
  {
   "cell_type": "code",
   "execution_count": 8,
   "id": "6c2f96d3-ad6f-450c-9403-1aa1df52fbe8",
   "metadata": {},
   "outputs": [],
   "source": [
    "# First pyTorch model (Linear regression)\n",
    "class LinearRegressionModel(nn.Module):\n",
    "    def __init__(self):\n",
    "        super().__init__()\n",
    "        self.weights = nn.Parameter(torch.randn(1,\n",
    "                                                requires_grad=True,\n",
    "                                                dtype=torch.float))\n",
    "        self.bias = nn.Parameter(torch.randn(1,\n",
    "                                             requires_grad=True,\n",
    "                                             dtype=torch.float))\n",
    "    # To define computation in the model\n",
    "    def forward(self, x: torch.Tensor) -> torch.Tensor:\n",
    "        return self.weights * x + self.bias"
   ]
  },
  {
   "cell_type": "code",
   "execution_count": 9,
   "id": "f7cd4351-4f26-4d22-b414-e9d020aa1f55",
   "metadata": {},
   "outputs": [],
   "source": [
    "loaded_model = LinearRegressionModel()"
   ]
  },
  {
   "cell_type": "code",
   "execution_count": 10,
   "id": "9ba53873-fec1-4620-8cbf-9ee466712983",
   "metadata": {},
   "outputs": [
    {
     "data": {
      "text/plain": [
       "OrderedDict([('weights', tensor([-0.1352])), ('bias', tensor([-0.9152]))])"
      ]
     },
     "execution_count": 10,
     "metadata": {},
     "output_type": "execute_result"
    }
   ],
   "source": [
    "loaded_model.state_dict()"
   ]
  },
  {
   "cell_type": "code",
   "execution_count": 11,
   "id": "5438db13-1cbc-4ade-8d8b-55ef3003d1e2",
   "metadata": {},
   "outputs": [
    {
     "data": {
      "text/plain": [
       "<All keys matched successfully>"
      ]
     },
     "execution_count": 11,
     "metadata": {},
     "output_type": "execute_result"
    }
   ],
   "source": [
    "MODEL_PATH = \"01_pytorch_workflow_model_0.pth\"\n",
    "loaded_model.load_state_dict(torch.load(f=MODEL_PATH))"
   ]
  },
  {
   "cell_type": "code",
   "execution_count": 12,
   "id": "2779a922-5477-48b1-8ca2-21a2c7ccdfb5",
   "metadata": {},
   "outputs": [
    {
     "data": {
      "text/plain": [
       "OrderedDict([('weights', tensor([0.6990])), ('bias', tensor([0.3093]))])"
      ]
     },
     "execution_count": 12,
     "metadata": {},
     "output_type": "execute_result"
    }
   ],
   "source": [
    "loaded_model.state_dict()"
   ]
  },
  {
   "cell_type": "code",
   "execution_count": null,
   "id": "235b240e-f05c-4182-8823-b9592830e3db",
   "metadata": {},
   "outputs": [],
   "source": []
  }
 ],
 "metadata": {
  "kernelspec": {
   "display_name": "Python 3 (ipykernel)",
   "language": "python",
   "name": "python3"
  },
  "language_info": {
   "codemirror_mode": {
    "name": "ipython",
    "version": 3
   },
   "file_extension": ".py",
   "mimetype": "text/x-python",
   "name": "python",
   "nbconvert_exporter": "python",
   "pygments_lexer": "ipython3",
   "version": "3.10.14"
  }
 },
 "nbformat": 4,
 "nbformat_minor": 5
}
