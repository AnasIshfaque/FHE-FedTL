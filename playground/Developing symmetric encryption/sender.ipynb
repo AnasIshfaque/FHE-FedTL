{
 "cells": [
  {
   "cell_type": "markdown",
   "id": "a25a32b3-69a4-4f40-96fd-b993e1f4e7d1",
   "metadata": {},
   "source": [
    "## importing relevant libraries"
   ]
  },
  {
   "cell_type": "code",
   "execution_count": 1,
   "id": "24ce3562-cfc9-4995-b053-9654aa6a0365",
   "metadata": {},
   "outputs": [],
   "source": [
    "from Crypto.Cipher import AES\n",
    "import torch\n",
    "from torch import nn\n",
    "import pickle\n",
    "import os\n",
    "import socket\n",
    "import struct"
   ]
  },
  {
   "cell_type": "code",
   "execution_count": 2,
   "id": "e4240fda-e772-4418-8aa3-356f955a361f",
   "metadata": {},
   "outputs": [],
   "source": [
    "# setting key and nonce of 16 bytes\n",
    "key = b\"FedLwithHEandIoT\"\n",
    "nonce = b\"FedLwithHEandIoT\""
   ]
  },
  {
   "cell_type": "markdown",
   "id": "ea302be3-4d75-4651-aac2-5b8f1c2f3919",
   "metadata": {
    "jp-MarkdownHeadingCollapsed": true
   },
   "source": [
    "## Simple example"
   ]
  },
  {
   "cell_type": "code",
   "execution_count": 3,
   "id": "c08e7529-cb52-4f58-9881-ead30870d6b8",
   "metadata": {},
   "outputs": [
    {
     "name": "stdout",
     "output_type": "stream",
     "text": [
      "b'\\xf85\\xcd\\xfa\\xf4\\x83%\\xe4\\xd5'\n"
     ]
    }
   ],
   "source": [
    "ciphertext = engine.encrypt(b\"MyWeights\")\n",
    "print(ciphertext)"
   ]
  },
  {
   "cell_type": "code",
   "execution_count": 4,
   "id": "d4891a7c-f6c3-4a35-9be4-03094fe56129",
   "metadata": {},
   "outputs": [
    {
     "name": "stdout",
     "output_type": "stream",
     "text": [
      "b'MyWeights'\n"
     ]
    }
   ],
   "source": [
    "engine = AES.new(key, AES.MODE_EAX, nonce)\n",
    "\n",
    "decryptedtext = engine.decrypt(ciphertext)\n",
    "print(decryptedtext)"
   ]
  },
  {
   "cell_type": "markdown",
   "id": "bee248cb-870b-4b3b-bd31-e79c9fa5ea10",
   "metadata": {},
   "source": [
    "## sending model weights"
   ]
  },
  {
   "cell_type": "markdown",
   "id": "65f00c1a-ec89-4f7c-902f-db7c5554a174",
   "metadata": {},
   "source": [
    "### PyTorch model defination"
   ]
  },
  {
   "cell_type": "code",
   "execution_count": 3,
   "id": "d286f9e3-3ae5-443d-b679-27a1c41bdcc8",
   "metadata": {},
   "outputs": [],
   "source": [
    "# First pyTorch model (Linear regression)\n",
    "class LinearRegressionModel(nn.Module):\n",
    "    def __init__(self):\n",
    "        super().__init__()\n",
    "        self.weights = nn.Parameter(torch.randn(1,\n",
    "                                                requires_grad=True,\n",
    "                                                dtype=torch.float))\n",
    "        self.bias = nn.Parameter(torch.randn(1,\n",
    "                                             requires_grad=True,\n",
    "                                             dtype=torch.float))\n",
    "    # To define computation in the model\n",
    "    def forward(self, x: torch.Tensor) -> torch.Tensor:\n",
    "        return self.weights * x + self.bias"
   ]
  },
  {
   "cell_type": "code",
   "execution_count": 4,
   "id": "ee6c76fa-b46d-41bd-90cf-48b0d527a7e7",
   "metadata": {},
   "outputs": [
    {
     "name": "stdout",
     "output_type": "stream",
     "text": [
      "OrderedDict([('weights', tensor([0.3367])), ('bias', tensor([0.1288]))])\n",
      "2\n"
     ]
    }
   ],
   "source": [
    "# Create a random seed\n",
    "RANDOM_SEED = 42\n",
    "torch.manual_seed(RANDOM_SEED)\n",
    "\n",
    "model = LinearRegressionModel()\n",
    "\n",
    "# list(model.parameters())\n",
    "dictionary = model.state_dict()\n",
    "keys = dictionary.keys()\n",
    "print(dictionary)\n",
    "print(len(dictionary))"
   ]
  },
  {
   "cell_type": "code",
   "execution_count": 5,
   "id": "fa4940fd-098e-4714-983b-3e59f84b2a3b",
   "metadata": {},
   "outputs": [
    {
     "name": "stdout",
     "output_type": "stream",
     "text": [
      "192.168.0.120\n"
     ]
    }
   ],
   "source": [
    "host = socket.gethostbyname(socket.gethostname())\n",
    "port = 10080\n",
    "print(host)"
   ]
  },
  {
   "cell_type": "markdown",
   "id": "6a084621-7fcd-4c30-a802-6b5284e402d5",
   "metadata": {},
   "source": [
    "### setting the socket for networking"
   ]
  },
  {
   "cell_type": "code",
   "execution_count": 6,
   "id": "7bc2595a-3b7b-4adb-b108-e12fe4c0e386",
   "metadata": {},
   "outputs": [],
   "source": [
    "client_soc = socket.socket(socket.AF_INET, socket.SOCK_STREAM)\n",
    "client_soc.connect((host, port))"
   ]
  },
  {
   "cell_type": "code",
   "execution_count": 7,
   "id": "72e4bf2c-5a39-43a5-8d0a-114b5f9f9e2d",
   "metadata": {},
   "outputs": [],
   "source": [
    "def send_msg(sock, msg, encrypt=True):\n",
    "    # prefix each message with a 4-byte length in network byte order\n",
    "    msg = pickle.dumps(msg)\n",
    "    \n",
    "    if encrypt == True:\n",
    "        # instantiating the crypto engine\n",
    "        engine = AES.new(key, AES.MODE_EAX, nonce)\n",
    "        msg = engine.encrypt(msg)\n",
    "    \n",
    "    msg = struct.pack('>I', len(msg)) + msg\n",
    "    sock.sendall(msg)"
   ]
  },
  {
   "cell_type": "code",
   "execution_count": 8,
   "id": "28179d7c-3d17-4f89-85ba-6a56965595c0",
   "metadata": {},
   "outputs": [],
   "source": [
    "send_msg(client_soc, dictionary)\n",
    "client_soc.close()"
   ]
  },
  {
   "cell_type": "code",
   "execution_count": null,
   "id": "8b2a44fa-dd2c-460a-adc6-89eec598fcdc",
   "metadata": {},
   "outputs": [],
   "source": []
  },
  {
   "cell_type": "code",
   "execution_count": null,
   "id": "4961c31b-e7c0-4ac3-b044-2f8e2b9dab82",
   "metadata": {},
   "outputs": [],
   "source": []
  },
  {
   "cell_type": "code",
   "execution_count": null,
   "id": "8dc9bc0e-65c8-4c80-bebd-ebb275c7e1d4",
   "metadata": {},
   "outputs": [],
   "source": []
  },
  {
   "cell_type": "code",
   "execution_count": 16,
   "id": "04c5b8f7-cecb-485a-b138-619b0b6e1b90",
   "metadata": {},
   "outputs": [
    {
     "name": "stdout",
     "output_type": "stream",
     "text": [
      "header: b'\\x00\\x00\\x02\\xe9'\n"
     ]
    }
   ],
   "source": [
    "num = 745\n",
    "header = struct.pack('>I', num)\n",
    "print(f\"header: {header}\")"
   ]
  },
  {
   "cell_type": "code",
   "execution_count": 17,
   "id": "ba59232a-cb5c-403c-938e-671bcccdae80",
   "metadata": {},
   "outputs": [
    {
     "name": "stdout",
     "output_type": "stream",
     "text": [
      "unpacked header: 745\n"
     ]
    }
   ],
   "source": [
    "unpacked_header = struct.unpack('>I', header)[0]\n",
    "print(f\"unpacked header: {unpacked_header}\")"
   ]
  },
  {
   "cell_type": "code",
   "execution_count": null,
   "id": "e7e2b86b-a5f0-42b8-83f0-c4c53e5f2f5b",
   "metadata": {},
   "outputs": [],
   "source": [
    "# converting to bytes for encrypting\n",
    "bytes_dict = pickle.dumps(dictionary)\n",
    "print(f\"byte_dict: {bytes_dict}\\n type: {type(bytes_dict)}, size: {str(len(bytes_dict))}\")\n",
    "\n",
    "# instantiating the crypto engine\n",
    "engine = AES.new(key, AES.MODE_EAX, nonce)\n",
    "encrypted_dict = engine.encrypt(bytes_dict)\n",
    "\n",
    "print(f\"encrypted_byte_dict: {encrypted_dict}\\n type:{type(encrypted_dict)}, , size: {str(len(encrypted_dict))}\")"
   ]
  },
  {
   "cell_type": "code",
   "execution_count": null,
   "id": "73f11dd8-b1eb-4f9a-b097-86640e37543e",
   "metadata": {},
   "outputs": [],
   "source": []
  }
 ],
 "metadata": {
  "kernelspec": {
   "display_name": "Python 3 (ipykernel)",
   "language": "python",
   "name": "python3"
  },
  "language_info": {
   "codemirror_mode": {
    "name": "ipython",
    "version": 3
   },
   "file_extension": ".py",
   "mimetype": "text/x-python",
   "name": "python",
   "nbconvert_exporter": "python",
   "pygments_lexer": "ipython3",
   "version": "3.11.5"
  }
 },
 "nbformat": 4,
 "nbformat_minor": 5
}
